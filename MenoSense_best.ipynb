{
  "nbformat": 4,
  "nbformat_minor": 0,
  "metadata": {
    "colab": {
      "provenance": [],
      "authorship_tag": "ABX9TyM6P+ftTkIawjOaEcQYMSuP",
      "include_colab_link": true
    },
    "kernelspec": {
      "name": "python3",
      "display_name": "Python 3"
    },
    "language_info": {
      "name": "python"
    }
  },
  "cells": [
    {
      "cell_type": "markdown",
      "metadata": {
        "id": "view-in-github",
        "colab_type": "text"
      },
      "source": [
        "<a href=\"https://colab.research.google.com/github/pizybaker/menosense_1/blob/main/MenoSense_best.ipynb\" target=\"_parent\"><img src=\"https://colab.research.google.com/assets/colab-badge.svg\" alt=\"Open In Colab\"/></a>"
      ]
    },
    {
      "cell_type": "markdown",
      "source": [
        "Importing required libraries"
      ],
      "metadata": {
        "id": "8ujB70tfXpji"
      }
    },
    {
      "cell_type": "code",
      "execution_count": 1,
      "metadata": {
        "id": "tLGHgrTjXiG9"
      },
      "outputs": [],
      "source": [
        "import pandas as pd\n",
        "import numpy as np\n",
        "import matplotlib.pyplot as plt\n",
        "import seaborn as sns\n",
        "from sklearn.ensemble import GradientBoostingClassifier, GradientBoostingRegressor\n",
        "from sklearn.model_selection import train_test_split, learning_curve\n",
        "from sklearn.metrics import accuracy_score, mean_absolute_error, confusion_matrix, f1_score\n",
        "from sklearn.preprocessing import StandardScaler\n",
        "from imblearn.over_sampling import RandomOverSampler"
      ]
    },
    {
      "cell_type": "markdown",
      "source": [
        "Load and prepare dataset"
      ],
      "metadata": {
        "id": "5OZYIYq6XxbT"
      }
    },
    {
      "cell_type": "code",
      "source": [
        "file_path = \"https://raw.githubusercontent.com/pizybaker/menosense/refs/heads/main/30501-0001-Data.tsv?token=GHSAT0AAAAAAC6OXF767BHRMAPX53DUCLAYZ6J3IRA\"\n",
        "df = pd.read_csv(file_path, sep='\\t')\n",
        "\n",
        "# Selecting relevant columns\n",
        "selected_columns = [\n",
        "    \"AGE5\", \"LMPDAY5\", \"PRGNANT5\", \"BMI5\", \"SMOKERE5\", \"ALCHL245\", \"WORKLOA5\",\n",
        "    \"SLEEPQL5\", \"DEPRESS5\", \"ENERGY5\", \"STRSSJO5\", \"HOTFLAS5\", \"NITESWE5\",\n",
        "    \"IRRITAB5\", \"FEELBLU5\", \"MOODCHG5\", \"HARTRAC5\", \"MENOSYM5\", \"STATUS5\"\n",
        "]\n",
        "\n",
        "df = df[selected_columns]\n",
        "\n",
        "# Convert to numeric\n",
        "df = df.apply(pd.to_numeric, errors='coerce')\n",
        "\n",
        "# Drop duplicates and missing values\n",
        "df.drop_duplicates(inplace=True)\n",
        "df.dropna(inplace=True)"
      ],
      "metadata": {
        "id": "wMhzCCeEXvZ5"
      },
      "execution_count": 2,
      "outputs": []
    },
    {
      "cell_type": "markdown",
      "source": [
        "data preprocessing"
      ],
      "metadata": {
        "id": "1UnHvPtaYi_d"
      }
    },
    {
      "cell_type": "code",
      "source": [
        "# Split into features (X) and target (STATUS5 for classification)\n",
        "X = df.drop(columns=[\"STATUS5\", \"AGE5\"])\n",
        "y_status = df[\"STATUS5\"]\n",
        "\n",
        "# Standardize numerical features\n",
        "scaler = StandardScaler()\n",
        "X_scaled = scaler.fit_transform(X)\n",
        "\n",
        "# Apply Random Oversampling for minority classes\n",
        "ros = RandomOverSampler(random_state=42)\n",
        "X_resampled, y_resampled = ros.fit_resample(X_scaled, y_status)"
      ],
      "metadata": {
        "id": "FUKsWhWLYxiU"
      },
      "execution_count": 3,
      "outputs": []
    },
    {
      "cell_type": "markdown",
      "source": [
        "model training and eval\n"
      ],
      "metadata": {
        "id": "kyZsLhREYzpL"
      }
    },
    {
      "cell_type": "code",
      "source": [
        "# Train-test split for classification\n",
        "X_train, X_test, y_train, y_test = train_test_split(\n",
        "    X_resampled, y_resampled, test_size=0.2, random_state=42, stratify=y_resampled\n",
        ")\n",
        "\n",
        "# Train classifier to predict STATUS5\n",
        "clf = GradientBoostingClassifier(n_estimators=500, learning_rate=0.05, max_depth=6, random_state=42)\n",
        "clf.fit(X_train, y_train)\n",
        "\n",
        "# Predict menopause status\n",
        "y_pred_status = clf.predict(X_test)\n",
        "accuracy = accuracy_score(y_test, y_pred_status)\n",
        "print(f\"Menopause Status Classifier Accuracy: {accuracy:.2%}\")\n",
        "\n",
        "# F1 Score\n",
        "f1 = f1_score(y_test, y_pred_status, average='weighted')\n",
        "print(f\"F1 Score: {f1:.2f}\")\n",
        "\n",
        "# Confusion Matrix for Classification\n",
        "conf_matrix = confusion_matrix(y_test, y_pred_status)\n",
        "plt.figure(figsize=(6, 4))\n",
        "sns.heatmap(conf_matrix, annot=True, fmt='d', cmap='Blues')\n",
        "plt.xlabel('Predicted')\n",
        "plt.ylabel('Actual')\n",
        "plt.title('Confusion Matrix (After Oversampling)')\n",
        "plt.show()"
      ],
      "metadata": {
        "colab": {
          "base_uri": "https://localhost:8080/",
          "height": 445
        },
        "id": "vFs06VIvY2QP",
        "outputId": "085e2859-fbec-40eb-fd1c-a37f49ad8f3b"
      },
      "execution_count": 4,
      "outputs": [
        {
          "output_type": "stream",
          "name": "stdout",
          "text": [
            "Menopause Status Classifier Accuracy: 97.78%\n",
            "F1 Score: 0.98\n"
          ]
        },
        {
          "output_type": "display_data",
          "data": {
            "text/plain": [
              "<Figure size 600x400 with 2 Axes>"
            ],
            "image/png": "[encoded data removed]"
          },
          "metadata": {}
        }
      ]
    },
    {
      "cell_type": "markdown",
      "source": [
        "Predict status and years until menopause"
      ],
      "metadata": {
        "id": "edzFfilfZC-o"
      }
    },
    {
      "cell_type": "code",
      "source": [
        "import warnings\n",
        "warnings.filterwarnings(\"ignore\", category=UserWarning, module=\"sklearn\")\n",
        "\n",
        "\n",
        "def predict_menopause_status():\n",
        "    print(\"\\nPlease provide the following information:\")\n",
        "    lmp_day = int(input(\"LMP Day (Day of the month of your last menstrual period, e.g., 15): \"))\n",
        "    ethnicity = int(input(\"Ethnicity (Select a number: 1-White, 2-Black, 3-Hispanic, 4-Asian, 5-Other): \"))\n",
        "    pregnancy_status = int(input(\"Pregnancy Status (1 for Not Pregnant, 2 for Pregnant): \"))\n",
        "    bmi = float(input(\"BMI (e.g., 22.5): \"))\n",
        "    smoking_status = int(input(\"Smoking Status (1 for Non-Smoker, 2 for Smoker): \"))\n",
        "    alcohol_consumption = int(input(\"Alcohol Consumption (1 for No, 2 for Yes): \"))\n",
        "    workload_stress = float(input(\"Workload Stress (Scale from 0 to 10): \"))\n",
        "    sleep_quality = float(input(\"Sleep Quality (Scale from 0 to 10): \"))\n",
        "    depression_level = float(input(\"Depression Level (Scale from 0 to 10): \"))\n",
        "    energy_level = float(input(\"Energy Level (Scale from 0 to 10): \"))\n",
        "    job_stress = float(input(\"Job Stress (Scale from 0 to 10): \"))\n",
        "    hot_flashes = int(input(\"Hot Flashes (1 for No, 2 for Yes): \"))\n",
        "    night_sweats = int(input(\"Night Sweats (1 for No, 2 for Yes): \"))\n",
        "    irritability = float(input(\"Irritability Level (Scale from 0 to 10): \"))\n",
        "    mood_changes = float(input(\"Mood Changes (Scale from 0 to 10): \"))\n",
        "    heart_palpitations = int(input(\"Heart Palpitations (1 for No, 2 for Yes): \"))\n",
        "    menopausal_symptoms = int(input(\"Menopausal Symptoms (1 for No, 2 for Yes): \"))\n",
        "\n",
        "    # Compiling all input features into a single array\n",
        "    input_data = np.array([[\n",
        "        lmp_day, ethnicity, pregnancy_status, bmi, smoking_status,\n",
        "        alcohol_consumption, workload_stress, sleep_quality, depression_level,\n",
        "        energy_level, job_stress, hot_flashes, night_sweats, irritability,\n",
        "        mood_changes, heart_palpitations, menopausal_symptoms\n",
        "    ]])\n",
        "\n",
        "    input_scaled = scaler.transform(input_data)\n",
        "    prediction = clf.predict(input_scaled)[0]\n",
        "\n",
        "    if prediction == 1:\n",
        "        print(\"\\nPrediction: Menopausal.\")\n",
        "    else:\n",
        "        predicted_years = clf.predict(input_scaled)[0]\n",
        "        print(\"\\nPrediction: Not Yet Menopausal.\")\n",
        "        print(f\"Estimated Years Until Menopause: {predicted_years:.2f} years\")\n",
        "\n",
        "predict_menopause_status()\n"
      ],
      "metadata": {
        "colab": {
          "base_uri": "https://localhost:8080/"
        },
        "id": "LbOKWCfFZHHm",
        "outputId": "3f9691ed-f244-4e64-e4a9-96d4928dcba9"
      },
      "execution_count": 15,
      "outputs": [
        {
          "output_type": "stream",
          "name": "stdout",
          "text": [
            "\n",
            "Please provide the following information:\n",
            "LMP Day (Day of the month of your last menstrual period, e.g., 15): 15\n",
            "Ethnicity (Select a number: 1-White, 2-Black, 3-Hispanic, 4-Asian, 5-Other): 4\n",
            "Pregnancy Status (1 for Not Pregnant, 2 for Pregnant): 1\n",
            "BMI (e.g., 22.5): 32\n",
            "Smoking Status (1 for Non-Smoker, 2 for Smoker): 1\n",
            "Alcohol Consumption (1 for No, 2 for Yes): 1\n",
            "Workload Stress (Scale from 0 to 10): 7\n",
            "Sleep Quality (Scale from 0 to 10): 8\n",
            "Depression Level (Scale from 0 to 10): 7\n",
            "Energy Level (Scale from 0 to 10): 8\n",
            "Job Stress (Scale from 0 to 10): 5\n",
            "Hot Flashes (1 for No, 2 for Yes): 2\n",
            "Night Sweats (1 for No, 2 for Yes): 2\n",
            "Irritability Level (Scale from 0 to 10): 4\n",
            "Mood Changes (Scale from 0 to 10): 1\n",
            "Heart Palpitations (1 for No, 2 for Yes): 2\n",
            "Menopausal Symptoms (1 for No, 2 for Yes): 2\n",
            "\n",
            "Prediction: Not Yet Menopausal.\n",
            "Estimated Years Until Menopause: 2.00 years\n"
          ]
        }
      ]
    }
  ]
}